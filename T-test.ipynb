{
 "cells": [
  {
   "cell_type": "code",
   "execution_count": 2,
   "id": "e096f988-c05a-4964-956d-b89f52739451",
   "metadata": {},
   "outputs": [],
   "source": [
    "import pandas as pd\n",
    "import numpy as np"
   ]
  },
  {
   "cell_type": "code",
   "execution_count": 3,
   "id": "4a631b8b-9e0b-4901-ad70-c04d95a38e90",
   "metadata": {},
   "outputs": [],
   "source": [
    "from scipy.stats import ttest_1samp"
   ]
  },
  {
   "cell_type": "code",
   "execution_count": 4,
   "id": "4fcc6a2b-a4b7-402f-81ab-82bed849e1af",
   "metadata": {},
   "outputs": [
    {
     "data": {
      "text/plain": [
       "[1, 2, 3, 4, 5, 6, 7, 8, 9, 10, 11, 12, 13, 14, 15, 16, 17, 18, 19, 20]"
      ]
     },
     "execution_count": 4,
     "metadata": {},
     "output_type": "execute_result"
    }
   ],
   "source": [
    "# sample 1 assumed mean\n",
    "list=[1,2,3,4,5,6,7,8,9,10,11,12,13,14,15,16,17,18,19,20]\n",
    "list"
   ]
  },
  {
   "cell_type": "code",
   "execution_count": 5,
   "id": "f62939ef-9f60-4c88-8cb1-79da4a5ae425",
   "metadata": {},
   "outputs": [
    {
     "data": {
      "text/plain": [
       "10.5"
      ]
     },
     "execution_count": 5,
     "metadata": {},
     "output_type": "execute_result"
    }
   ],
   "source": [
    "y=np.mean(list)\n",
    "y"
   ]
  },
  {
   "cell_type": "code",
   "execution_count": 10,
   "id": "001a3190-5dad-4b40-9214-dfb86ab5b173",
   "metadata": {},
   "outputs": [
    {
     "name": "stdout",
     "output_type": "stream",
     "text": [
      "test stat is: 0.3779644730092272\n",
      "p-value is: 0.7096465021439777\n",
      "the mean of sample is same as assumed mean\n"
     ]
    }
   ],
   "source": [
    "from scipy.stats import ttest_1samp\n",
    "list=[1,2,3,4,5,6,7,8,9,10,11,12,13,14,15,16,17,18,19,20]\n",
    "assumed_mean = 10\n",
    "stat,p = ttest_1samp(list,assumed_mean)\n",
    "print(\"test stat is:\",stat)\n",
    "print(\"p-value is:\",p)\n",
    "if p > 0.05:\n",
    "    print(\"the mean of sample is same as assumed mean\")\n",
    "else:\n",
    "    print(\"the mean of sample is not same as assumed mean\")"
   ]
  },
  {
   "cell_type": "code",
   "execution_count": 11,
   "id": "db7c3076-f4d0-4c67-b055-4057e2a64a20",
   "metadata": {},
   "outputs": [
    {
     "name": "stdout",
     "output_type": "stream",
     "text": [
      "test stat is : -7.1080765665014845\n",
      "p-value is: 1.7571109258457427e-08\n",
      "both the mean are not same\n"
     ]
    }
   ],
   "source": [
    "from scipy.stats import ttest_ind\n",
    "list1=[1,2,3,4,5,6,7,8,9,10,11,12,13,14,15,16,17,18,19,20]\n",
    "list2=[10,20,30,40,50,60,70,80,90,100,110,120,130,140,150,160,170,180,190,200]\n",
    "stat ,p=ttest_ind(list1,list2)\n",
    "print(\"test stat is :\",stat)\n",
    "print(\"p-value is:\",p)\n",
    "if p > 0.05:\n",
    "    print(\"both the mean are same\")\n",
    "else:\n",
    "    print(\"both the mean are not same\")"
   ]
  },
  {
   "cell_type": "code",
   "execution_count": 1,
   "id": "903d0667-8287-489e-814f-e4f9e623ca8a",
   "metadata": {},
   "outputs": [
    {
     "name": "stdout",
     "output_type": "stream",
     "text": [
      "p-value is: 1.7571109258457427e-08\n",
      "both the mean are not same\n"
     ]
    }
   ],
   "source": [
    "from scipy.stats import ttest_ind\n",
    "list1=[1,2,3,4,5,6,7,8,9,10,11,12,13,14,15,16,17,18,19,20]\n",
    "list2=[10,20,30,40,50,60,70,80,90,100,110,120,130,140,150,160,170,180,190,200]\n",
    "stat ,p=ttest_ind(list1,list2)\n",
    "print(\"p-value is:\",p)\n",
    "if p > 0.05:\n",
    "    print(\"both the mean are same\")\n",
    "else:\n",
    "    print(\"both the mean are not same\")"
   ]
  },
  {
   "cell_type": "code",
   "execution_count": 2,
   "id": "ce851ee2-9fd0-4216-ab39-2809d026a7f9",
   "metadata": {},
   "outputs": [
    {
     "name": "stdout",
     "output_type": "stream",
     "text": [
      "test stat is: -4.0\n",
      "p-value is: 0.01613008990009254\n",
      "Both the marks are not same\n"
     ]
    }
   ],
   "source": [
    "from scipy.stats import ttest_rel\n",
    "before_marks=[10,20,30,40,50]\n",
    "after_marks=[15,25,35,45,50]\n",
    "stat,p=ttest_rel(before_marks,after_marks)\n",
    "print(\"test stat is:\",stat)\n",
    "print(\"p-value is:\",p)\n",
    "if p >0.05:\n",
    "    print(\"Both the marks are same\")\n",
    "else:\n",
    "    print(\"Both the marks are not same\")"
   ]
  },
  {
   "cell_type": "code",
   "execution_count": 3,
   "id": "a7d4ddde-0037-4d50-a962-bd441d6c9ea9",
   "metadata": {},
   "outputs": [],
   "source": [
    "#anova"
   ]
  },
  {
   "cell_type": "code",
   "execution_count": 8,
   "id": "9c6bf5e7-419b-4c23-bfb8-1685799458ae",
   "metadata": {},
   "outputs": [
    {
     "name": "stdout",
     "output_type": "stream",
     "text": [
      "test stat is: 29.373626373626372\n",
      "p-value is: 1.67856405610569e-07\n",
      "mean of all samples are not same\n"
     ]
    },
    {
     "name": "stderr",
     "output_type": "stream",
     "text": [
      "C:\\Users\\Harshita\\AppData\\Local\\Temp\\ipykernel_8332\\1159905929.py:5: DeprecationWarning: Please import `f_oneway` from the `scipy.stats` namespace; the `scipy.stats.stats` namespace is deprecated and will be removed in SciPy 2.0.0.\n",
      "  f ,p=stats.f_oneway(l1,l2,l3)\n"
     ]
    }
   ],
   "source": [
    "from scipy.stats import stats\n",
    "l1=[1,2,3,4,5,6,7,8,9,10]\n",
    "l2=[10,20,30,40,50,60,70,80,90,100]\n",
    "l3=[100,200,300,400,500,600,700,800,900,1000]\n",
    "f ,p=stats.f_oneway(l1,l2,l3)\n",
    "print(\"test stat is:\", f)\n",
    "print(\"p-value is:\", p)\n",
    "if p > 0.05:\n",
    "    print(\"mean of all samples are same\")\n",
    "else:\n",
    "    print(\"mean of all samples are not same\")"
   ]
  },
  {
   "cell_type": "code",
   "execution_count": 9,
   "id": "6abe0c02-0eab-4bed-b4ca-db50c342a265",
   "metadata": {},
   "outputs": [],
   "source": [
    "#mann-whitney u test"
   ]
  },
  {
   "cell_type": "code",
   "execution_count": 10,
   "id": "52800a35-7819-4dec-ad4b-5fcf5ed67d49",
   "metadata": {},
   "outputs": [
    {
     "data": {
      "text/plain": [
       "MannwhitneyuResult(statistic=0.5, pvalue=0.00021101981687501444)"
      ]
     },
     "execution_count": 10,
     "metadata": {},
     "output_type": "execute_result"
    }
   ],
   "source": [
    "from scipy.stats import mannwhitneyu\n",
    "l1=[1,2,3,4,5,6,7,8,9,10]\n",
    "l2=[10,20,30,40,50,60,70,80,90,100]\n",
    "mannwhitneyu(l1,l2,alternative='two-sided')"
   ]
  },
  {
   "cell_type": "code",
   "execution_count": null,
   "id": "f71c3e1e-0e70-4cbe-b11d-3d0dff49b46a",
   "metadata": {},
   "outputs": [],
   "source": []
  }
 ],
 "metadata": {
  "kernelspec": {
   "display_name": "Python 3 (ipykernel)",
   "language": "python",
   "name": "python3"
  },
  "language_info": {
   "codemirror_mode": {
    "name": "ipython",
    "version": 3
   },
   "file_extension": ".py",
   "mimetype": "text/x-python",
   "name": "python",
   "nbconvert_exporter": "python",
   "pygments_lexer": "ipython3",
   "version": "3.12.4"
  }
 },
 "nbformat": 4,
 "nbformat_minor": 5
}
