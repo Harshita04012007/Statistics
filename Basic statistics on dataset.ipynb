{
 "cells": [
  {
   "cell_type": "code",
   "execution_count": 128,
   "id": "090c27b9-6395-4fe1-805a-68c211202fac",
   "metadata": {},
   "outputs": [],
   "source": [
    "import pandas as pd\n",
    "import numpy as np"
   ]
  },
  {
   "cell_type": "code",
   "execution_count": 129,
   "id": "68d91674-03c3-40c5-a6b5-6b13382d9f64",
   "metadata": {},
   "outputs": [
    {
     "data": {
      "text/html": [
       "<div>\n",
       "<style scoped>\n",
       "    .dataframe tbody tr th:only-of-type {\n",
       "        vertical-align: middle;\n",
       "    }\n",
       "\n",
       "    .dataframe tbody tr th {\n",
       "        vertical-align: top;\n",
       "    }\n",
       "\n",
       "    .dataframe thead th {\n",
       "        text-align: right;\n",
       "    }\n",
       "</style>\n",
       "<table border=\"1\" class=\"dataframe\">\n",
       "  <thead>\n",
       "    <tr style=\"text-align: right;\">\n",
       "      <th></th>\n",
       "      <th>Rank</th>\n",
       "      <th>Title</th>\n",
       "      <th>Employees</th>\n",
       "      <th>Sector</th>\n",
       "      <th>Industry</th>\n",
       "      <th>Hqcity</th>\n",
       "      <th>Ceo</th>\n",
       "      <th>Ceo-title</th>\n",
       "      <th>Revenues</th>\n",
       "      <th>Revchange</th>\n",
       "      <th>Profits</th>\n",
       "      <th>Prftchange</th>\n",
       "      <th>Assets</th>\n",
       "    </tr>\n",
       "  </thead>\n",
       "  <tbody>\n",
       "    <tr>\n",
       "      <th>0</th>\n",
       "      <td>1</td>\n",
       "      <td>Walmart</td>\n",
       "      <td>2300000</td>\n",
       "      <td>Retailing</td>\n",
       "      <td>General Merchandisers</td>\n",
       "      <td>Bentonville</td>\n",
       "      <td>C. Douglas McMillon</td>\n",
       "      <td>President, Chief Executive Officer &amp; Director</td>\n",
       "      <td>485873</td>\n",
       "      <td>0.8</td>\n",
       "      <td>13643.0</td>\n",
       "      <td>-7.2</td>\n",
       "      <td>198825</td>\n",
       "    </tr>\n",
       "    <tr>\n",
       "      <th>1</th>\n",
       "      <td>2</td>\n",
       "      <td>Berkshire Hathaway</td>\n",
       "      <td>367700</td>\n",
       "      <td>Financials</td>\n",
       "      <td>Insurance: Property and Casualty (Stock)</td>\n",
       "      <td>Omaha</td>\n",
       "      <td>Warren E. Buffett</td>\n",
       "      <td>Chairman &amp; Chief Executive Officer</td>\n",
       "      <td>223604</td>\n",
       "      <td>6.1</td>\n",
       "      <td>24074.0</td>\n",
       "      <td>0</td>\n",
       "      <td>620854</td>\n",
       "    </tr>\n",
       "    <tr>\n",
       "      <th>2</th>\n",
       "      <td>3</td>\n",
       "      <td>Apple</td>\n",
       "      <td>116000</td>\n",
       "      <td>Technology</td>\n",
       "      <td>Computers, Office Equipment</td>\n",
       "      <td>Cupertino</td>\n",
       "      <td>Timothy D. Cook</td>\n",
       "      <td>Chief Executive Officer &amp; Director</td>\n",
       "      <td>215639</td>\n",
       "      <td>-7.7</td>\n",
       "      <td>45687.0</td>\n",
       "      <td>-14.4</td>\n",
       "      <td>321686</td>\n",
       "    </tr>\n",
       "    <tr>\n",
       "      <th>3</th>\n",
       "      <td>4</td>\n",
       "      <td>Exxon Mobil</td>\n",
       "      <td>72700</td>\n",
       "      <td>Energy</td>\n",
       "      <td>Petroleum Refining</td>\n",
       "      <td>Irving</td>\n",
       "      <td>Darren W. Woods</td>\n",
       "      <td>Chairman &amp; Chief Executive Officer</td>\n",
       "      <td>205004</td>\n",
       "      <td>-16.7</td>\n",
       "      <td>7840.0</td>\n",
       "      <td>-51.5</td>\n",
       "      <td>330314</td>\n",
       "    </tr>\n",
       "    <tr>\n",
       "      <th>4</th>\n",
       "      <td>5</td>\n",
       "      <td>McKesson</td>\n",
       "      <td>68000</td>\n",
       "      <td>Wholesalers</td>\n",
       "      <td>Wholesalers: Health Care</td>\n",
       "      <td>San Francisco</td>\n",
       "      <td>John H. Hammergren</td>\n",
       "      <td>Chairman, President &amp; Chief Executive Officer</td>\n",
       "      <td>192487</td>\n",
       "      <td>6.2</td>\n",
       "      <td>2258.0</td>\n",
       "      <td>53</td>\n",
       "      <td>56563</td>\n",
       "    </tr>\n",
       "    <tr>\n",
       "      <th>...</th>\n",
       "      <td>...</td>\n",
       "      <td>...</td>\n",
       "      <td>...</td>\n",
       "      <td>...</td>\n",
       "      <td>...</td>\n",
       "      <td>...</td>\n",
       "      <td>...</td>\n",
       "      <td>...</td>\n",
       "      <td>...</td>\n",
       "      <td>...</td>\n",
       "      <td>...</td>\n",
       "      <td>...</td>\n",
       "      <td>...</td>\n",
       "    </tr>\n",
       "    <tr>\n",
       "      <th>495</th>\n",
       "      <td>496</td>\n",
       "      <td>Michaels Cos.</td>\n",
       "      <td>31000</td>\n",
       "      <td>Retailing</td>\n",
       "      <td>Specialty Retailers: Other</td>\n",
       "      <td>Irving</td>\n",
       "      <td>Carl S. Rubin</td>\n",
       "      <td>Chairman &amp; Chief Executive Officer</td>\n",
       "      <td>5197</td>\n",
       "      <td>5.8</td>\n",
       "      <td>378.2</td>\n",
       "      <td>4.2</td>\n",
       "      <td>2148</td>\n",
       "    </tr>\n",
       "    <tr>\n",
       "      <th>496</th>\n",
       "      <td>497</td>\n",
       "      <td>Toll Brothers</td>\n",
       "      <td>4200</td>\n",
       "      <td>Engineering &amp; Construction</td>\n",
       "      <td>Homebuilders</td>\n",
       "      <td>Horsham</td>\n",
       "      <td>Douglas C. Yearley Jr.</td>\n",
       "      <td>Chief Executive Officer &amp; Director</td>\n",
       "      <td>5170</td>\n",
       "      <td>23.9</td>\n",
       "      <td>382.1</td>\n",
       "      <td>5.2</td>\n",
       "      <td>9737</td>\n",
       "    </tr>\n",
       "    <tr>\n",
       "      <th>497</th>\n",
       "      <td>498</td>\n",
       "      <td>Yahoo</td>\n",
       "      <td>8500</td>\n",
       "      <td>Technology</td>\n",
       "      <td>Internet Services and Retailing</td>\n",
       "      <td>Sunnyvale</td>\n",
       "      <td>Marissa A. Mayer</td>\n",
       "      <td>President, Chief Executive Officer &amp; Director</td>\n",
       "      <td>5169</td>\n",
       "      <td>4.0</td>\n",
       "      <td>-214.3</td>\n",
       "      <td>5.2</td>\n",
       "      <td>48083</td>\n",
       "    </tr>\n",
       "    <tr>\n",
       "      <th>498</th>\n",
       "      <td>499</td>\n",
       "      <td>Vistra Energy</td>\n",
       "      <td>4431</td>\n",
       "      <td>Energy</td>\n",
       "      <td>Energy</td>\n",
       "      <td>Dallas</td>\n",
       "      <td>Curtis A. Morgan</td>\n",
       "      <td>President, Chief Executive Officer &amp; Director</td>\n",
       "      <td>5164</td>\n",
       "      <td>4.0</td>\n",
       "      <td>-214.3</td>\n",
       "      <td>5.2</td>\n",
       "      <td>15167</td>\n",
       "    </tr>\n",
       "    <tr>\n",
       "      <th>499</th>\n",
       "      <td>500</td>\n",
       "      <td>ABM Industries</td>\n",
       "      <td>110000</td>\n",
       "      <td>Business Services</td>\n",
       "      <td>Diversified Outsourcing Services</td>\n",
       "      <td>New York</td>\n",
       "      <td>Scott B. Salmirs</td>\n",
       "      <td>President, Chief Executive Officer &amp; Director</td>\n",
       "      <td>5145</td>\n",
       "      <td>-2.8</td>\n",
       "      <td>57.2</td>\n",
       "      <td>-25</td>\n",
       "      <td>2281</td>\n",
       "    </tr>\n",
       "  </tbody>\n",
       "</table>\n",
       "<p>500 rows × 13 columns</p>\n",
       "</div>"
      ],
      "text/plain": [
       "     Rank               Title  Employees                      Sector  \\\n",
       "0       1             Walmart    2300000                   Retailing   \n",
       "1       2  Berkshire Hathaway     367700                  Financials   \n",
       "2       3               Apple     116000                  Technology   \n",
       "3       4         Exxon Mobil      72700                      Energy   \n",
       "4       5            McKesson      68000                 Wholesalers   \n",
       "..    ...                 ...        ...                         ...   \n",
       "495   496       Michaels Cos.      31000                   Retailing   \n",
       "496   497       Toll Brothers       4200  Engineering & Construction   \n",
       "497   498               Yahoo       8500                  Technology   \n",
       "498   499       Vistra Energy       4431                      Energy   \n",
       "499   500      ABM Industries     110000           Business Services   \n",
       "\n",
       "                                     Industry         Hqcity  \\\n",
       "0                       General Merchandisers    Bentonville   \n",
       "1    Insurance: Property and Casualty (Stock)          Omaha   \n",
       "2                 Computers, Office Equipment      Cupertino   \n",
       "3                          Petroleum Refining         Irving   \n",
       "4                    Wholesalers: Health Care  San Francisco   \n",
       "..                                        ...            ...   \n",
       "495                Specialty Retailers: Other         Irving   \n",
       "496                              Homebuilders        Horsham   \n",
       "497           Internet Services and Retailing      Sunnyvale   \n",
       "498                                    Energy         Dallas   \n",
       "499          Diversified Outsourcing Services       New York   \n",
       "\n",
       "                        Ceo                                      Ceo-title  \\\n",
       "0       C. Douglas McMillon  President, Chief Executive Officer & Director   \n",
       "1         Warren E. Buffett             Chairman & Chief Executive Officer   \n",
       "2           Timothy D. Cook             Chief Executive Officer & Director   \n",
       "3           Darren W. Woods             Chairman & Chief Executive Officer   \n",
       "4        John H. Hammergren  Chairman, President & Chief Executive Officer   \n",
       "..                      ...                                            ...   \n",
       "495           Carl S. Rubin             Chairman & Chief Executive Officer   \n",
       "496  Douglas C. Yearley Jr.             Chief Executive Officer & Director   \n",
       "497        Marissa A. Mayer  President, Chief Executive Officer & Director   \n",
       "498        Curtis A. Morgan  President, Chief Executive Officer & Director   \n",
       "499        Scott B. Salmirs  President, Chief Executive Officer & Director   \n",
       "\n",
       "     Revenues  Revchange  Profits Prftchange  Assets  \n",
       "0      485873        0.8  13643.0       -7.2  198825  \n",
       "1      223604        6.1  24074.0          0  620854  \n",
       "2      215639       -7.7  45687.0      -14.4  321686  \n",
       "3      205004      -16.7   7840.0      -51.5  330314  \n",
       "4      192487        6.2   2258.0         53   56563  \n",
       "..        ...        ...      ...        ...     ...  \n",
       "495      5197        5.8    378.2        4.2    2148  \n",
       "496      5170       23.9    382.1        5.2    9737  \n",
       "497      5169        4.0   -214.3        5.2   48083  \n",
       "498      5164        4.0   -214.3        5.2   15167  \n",
       "499      5145       -2.8     57.2        -25    2281  \n",
       "\n",
       "[500 rows x 13 columns]"
      ]
     },
     "execution_count": 129,
     "metadata": {},
     "output_type": "execute_result"
    }
   ],
   "source": [
    "df= pd.read_csv('Fortune500.csv')\n",
    "df"
   ]
  },
  {
   "cell_type": "code",
   "execution_count": 130,
   "id": "7b093554-146c-4b05-b04d-e0a73fa0d59d",
   "metadata": {},
   "outputs": [
    {
     "data": {
      "text/html": [
       "<div>\n",
       "<style scoped>\n",
       "    .dataframe tbody tr th:only-of-type {\n",
       "        vertical-align: middle;\n",
       "    }\n",
       "\n",
       "    .dataframe tbody tr th {\n",
       "        vertical-align: top;\n",
       "    }\n",
       "\n",
       "    .dataframe thead th {\n",
       "        text-align: right;\n",
       "    }\n",
       "</style>\n",
       "<table border=\"1\" class=\"dataframe\">\n",
       "  <thead>\n",
       "    <tr style=\"text-align: right;\">\n",
       "      <th></th>\n",
       "      <th>Rank</th>\n",
       "      <th>Title</th>\n",
       "      <th>Employees</th>\n",
       "      <th>Sector</th>\n",
       "      <th>Industry</th>\n",
       "      <th>Hqcity</th>\n",
       "      <th>Ceo</th>\n",
       "      <th>Ceo-title</th>\n",
       "      <th>Revenues</th>\n",
       "      <th>Revchange</th>\n",
       "      <th>Profits</th>\n",
       "      <th>Prftchange</th>\n",
       "      <th>Assets</th>\n",
       "    </tr>\n",
       "  </thead>\n",
       "  <tbody>\n",
       "    <tr>\n",
       "      <th>0</th>\n",
       "      <td>1</td>\n",
       "      <td>Walmart</td>\n",
       "      <td>2300000</td>\n",
       "      <td>Retailing</td>\n",
       "      <td>General Merchandisers</td>\n",
       "      <td>Bentonville</td>\n",
       "      <td>C. Douglas McMillon</td>\n",
       "      <td>President, Chief Executive Officer &amp; Director</td>\n",
       "      <td>485873</td>\n",
       "      <td>0.8</td>\n",
       "      <td>13643.0</td>\n",
       "      <td>-7.2</td>\n",
       "      <td>198825</td>\n",
       "    </tr>\n",
       "    <tr>\n",
       "      <th>1</th>\n",
       "      <td>2</td>\n",
       "      <td>Berkshire Hathaway</td>\n",
       "      <td>367700</td>\n",
       "      <td>Financials</td>\n",
       "      <td>Insurance: Property and Casualty (Stock)</td>\n",
       "      <td>Omaha</td>\n",
       "      <td>Warren E. Buffett</td>\n",
       "      <td>Chairman &amp; Chief Executive Officer</td>\n",
       "      <td>223604</td>\n",
       "      <td>6.1</td>\n",
       "      <td>24074.0</td>\n",
       "      <td>0</td>\n",
       "      <td>620854</td>\n",
       "    </tr>\n",
       "    <tr>\n",
       "      <th>2</th>\n",
       "      <td>3</td>\n",
       "      <td>Apple</td>\n",
       "      <td>116000</td>\n",
       "      <td>Technology</td>\n",
       "      <td>Computers, Office Equipment</td>\n",
       "      <td>Cupertino</td>\n",
       "      <td>Timothy D. Cook</td>\n",
       "      <td>Chief Executive Officer &amp; Director</td>\n",
       "      <td>215639</td>\n",
       "      <td>-7.7</td>\n",
       "      <td>45687.0</td>\n",
       "      <td>-14.4</td>\n",
       "      <td>321686</td>\n",
       "    </tr>\n",
       "    <tr>\n",
       "      <th>3</th>\n",
       "      <td>4</td>\n",
       "      <td>Exxon Mobil</td>\n",
       "      <td>72700</td>\n",
       "      <td>Energy</td>\n",
       "      <td>Petroleum Refining</td>\n",
       "      <td>Irving</td>\n",
       "      <td>Darren W. Woods</td>\n",
       "      <td>Chairman &amp; Chief Executive Officer</td>\n",
       "      <td>205004</td>\n",
       "      <td>-16.7</td>\n",
       "      <td>7840.0</td>\n",
       "      <td>-51.5</td>\n",
       "      <td>330314</td>\n",
       "    </tr>\n",
       "    <tr>\n",
       "      <th>4</th>\n",
       "      <td>5</td>\n",
       "      <td>McKesson</td>\n",
       "      <td>68000</td>\n",
       "      <td>Wholesalers</td>\n",
       "      <td>Wholesalers: Health Care</td>\n",
       "      <td>San Francisco</td>\n",
       "      <td>John H. Hammergren</td>\n",
       "      <td>Chairman, President &amp; Chief Executive Officer</td>\n",
       "      <td>192487</td>\n",
       "      <td>6.2</td>\n",
       "      <td>2258.0</td>\n",
       "      <td>53</td>\n",
       "      <td>56563</td>\n",
       "    </tr>\n",
       "  </tbody>\n",
       "</table>\n",
       "</div>"
      ],
      "text/plain": [
       "   Rank               Title  Employees       Sector  \\\n",
       "0     1             Walmart    2300000    Retailing   \n",
       "1     2  Berkshire Hathaway     367700   Financials   \n",
       "2     3               Apple     116000   Technology   \n",
       "3     4         Exxon Mobil      72700       Energy   \n",
       "4     5            McKesson      68000  Wholesalers   \n",
       "\n",
       "                                   Industry         Hqcity  \\\n",
       "0                     General Merchandisers    Bentonville   \n",
       "1  Insurance: Property and Casualty (Stock)          Omaha   \n",
       "2               Computers, Office Equipment      Cupertino   \n",
       "3                        Petroleum Refining         Irving   \n",
       "4                  Wholesalers: Health Care  San Francisco   \n",
       "\n",
       "                   Ceo                                      Ceo-title  \\\n",
       "0  C. Douglas McMillon  President, Chief Executive Officer & Director   \n",
       "1    Warren E. Buffett             Chairman & Chief Executive Officer   \n",
       "2      Timothy D. Cook             Chief Executive Officer & Director   \n",
       "3      Darren W. Woods             Chairman & Chief Executive Officer   \n",
       "4   John H. Hammergren  Chairman, President & Chief Executive Officer   \n",
       "\n",
       "   Revenues  Revchange  Profits Prftchange  Assets  \n",
       "0    485873        0.8  13643.0       -7.2  198825  \n",
       "1    223604        6.1  24074.0          0  620854  \n",
       "2    215639       -7.7  45687.0      -14.4  321686  \n",
       "3    205004      -16.7   7840.0      -51.5  330314  \n",
       "4    192487        6.2   2258.0         53   56563  "
      ]
     },
     "execution_count": 130,
     "metadata": {},
     "output_type": "execute_result"
    }
   ],
   "source": [
    "#head use for 5 upper dataset\n",
    "df.head()"
   ]
  },
  {
   "cell_type": "code",
   "execution_count": 131,
   "id": "561c2913-b327-4d73-8d20-b375cbe029dd",
   "metadata": {},
   "outputs": [
    {
     "data": {
      "text/html": [
       "<div>\n",
       "<style scoped>\n",
       "    .dataframe tbody tr th:only-of-type {\n",
       "        vertical-align: middle;\n",
       "    }\n",
       "\n",
       "    .dataframe tbody tr th {\n",
       "        vertical-align: top;\n",
       "    }\n",
       "\n",
       "    .dataframe thead th {\n",
       "        text-align: right;\n",
       "    }\n",
       "</style>\n",
       "<table border=\"1\" class=\"dataframe\">\n",
       "  <thead>\n",
       "    <tr style=\"text-align: right;\">\n",
       "      <th></th>\n",
       "      <th>Rank</th>\n",
       "      <th>Title</th>\n",
       "      <th>Employees</th>\n",
       "      <th>Sector</th>\n",
       "      <th>Industry</th>\n",
       "      <th>Hqcity</th>\n",
       "      <th>Ceo</th>\n",
       "      <th>Ceo-title</th>\n",
       "      <th>Revenues</th>\n",
       "      <th>Revchange</th>\n",
       "      <th>Profits</th>\n",
       "      <th>Prftchange</th>\n",
       "      <th>Assets</th>\n",
       "    </tr>\n",
       "  </thead>\n",
       "  <tbody>\n",
       "    <tr>\n",
       "      <th>495</th>\n",
       "      <td>496</td>\n",
       "      <td>Michaels Cos.</td>\n",
       "      <td>31000</td>\n",
       "      <td>Retailing</td>\n",
       "      <td>Specialty Retailers: Other</td>\n",
       "      <td>Irving</td>\n",
       "      <td>Carl S. Rubin</td>\n",
       "      <td>Chairman &amp; Chief Executive Officer</td>\n",
       "      <td>5197</td>\n",
       "      <td>5.8</td>\n",
       "      <td>378.2</td>\n",
       "      <td>4.2</td>\n",
       "      <td>2148</td>\n",
       "    </tr>\n",
       "    <tr>\n",
       "      <th>496</th>\n",
       "      <td>497</td>\n",
       "      <td>Toll Brothers</td>\n",
       "      <td>4200</td>\n",
       "      <td>Engineering &amp; Construction</td>\n",
       "      <td>Homebuilders</td>\n",
       "      <td>Horsham</td>\n",
       "      <td>Douglas C. Yearley Jr.</td>\n",
       "      <td>Chief Executive Officer &amp; Director</td>\n",
       "      <td>5170</td>\n",
       "      <td>23.9</td>\n",
       "      <td>382.1</td>\n",
       "      <td>5.2</td>\n",
       "      <td>9737</td>\n",
       "    </tr>\n",
       "    <tr>\n",
       "      <th>497</th>\n",
       "      <td>498</td>\n",
       "      <td>Yahoo</td>\n",
       "      <td>8500</td>\n",
       "      <td>Technology</td>\n",
       "      <td>Internet Services and Retailing</td>\n",
       "      <td>Sunnyvale</td>\n",
       "      <td>Marissa A. Mayer</td>\n",
       "      <td>President, Chief Executive Officer &amp; Director</td>\n",
       "      <td>5169</td>\n",
       "      <td>4.0</td>\n",
       "      <td>-214.3</td>\n",
       "      <td>5.2</td>\n",
       "      <td>48083</td>\n",
       "    </tr>\n",
       "    <tr>\n",
       "      <th>498</th>\n",
       "      <td>499</td>\n",
       "      <td>Vistra Energy</td>\n",
       "      <td>4431</td>\n",
       "      <td>Energy</td>\n",
       "      <td>Energy</td>\n",
       "      <td>Dallas</td>\n",
       "      <td>Curtis A. Morgan</td>\n",
       "      <td>President, Chief Executive Officer &amp; Director</td>\n",
       "      <td>5164</td>\n",
       "      <td>4.0</td>\n",
       "      <td>-214.3</td>\n",
       "      <td>5.2</td>\n",
       "      <td>15167</td>\n",
       "    </tr>\n",
       "    <tr>\n",
       "      <th>499</th>\n",
       "      <td>500</td>\n",
       "      <td>ABM Industries</td>\n",
       "      <td>110000</td>\n",
       "      <td>Business Services</td>\n",
       "      <td>Diversified Outsourcing Services</td>\n",
       "      <td>New York</td>\n",
       "      <td>Scott B. Salmirs</td>\n",
       "      <td>President, Chief Executive Officer &amp; Director</td>\n",
       "      <td>5145</td>\n",
       "      <td>-2.8</td>\n",
       "      <td>57.2</td>\n",
       "      <td>-25</td>\n",
       "      <td>2281</td>\n",
       "    </tr>\n",
       "  </tbody>\n",
       "</table>\n",
       "</div>"
      ],
      "text/plain": [
       "     Rank           Title  Employees                      Sector  \\\n",
       "495   496   Michaels Cos.      31000                   Retailing   \n",
       "496   497   Toll Brothers       4200  Engineering & Construction   \n",
       "497   498           Yahoo       8500                  Technology   \n",
       "498   499   Vistra Energy       4431                      Energy   \n",
       "499   500  ABM Industries     110000           Business Services   \n",
       "\n",
       "                             Industry     Hqcity                     Ceo  \\\n",
       "495        Specialty Retailers: Other     Irving           Carl S. Rubin   \n",
       "496                      Homebuilders    Horsham  Douglas C. Yearley Jr.   \n",
       "497   Internet Services and Retailing  Sunnyvale        Marissa A. Mayer   \n",
       "498                            Energy     Dallas        Curtis A. Morgan   \n",
       "499  Diversified Outsourcing Services   New York        Scott B. Salmirs   \n",
       "\n",
       "                                         Ceo-title  Revenues  Revchange  \\\n",
       "495             Chairman & Chief Executive Officer      5197        5.8   \n",
       "496             Chief Executive Officer & Director      5170       23.9   \n",
       "497  President, Chief Executive Officer & Director      5169        4.0   \n",
       "498  President, Chief Executive Officer & Director      5164        4.0   \n",
       "499  President, Chief Executive Officer & Director      5145       -2.8   \n",
       "\n",
       "     Profits Prftchange  Assets  \n",
       "495    378.2        4.2    2148  \n",
       "496    382.1        5.2    9737  \n",
       "497   -214.3        5.2   48083  \n",
       "498   -214.3        5.2   15167  \n",
       "499     57.2        -25    2281  "
      ]
     },
     "execution_count": 131,
     "metadata": {},
     "output_type": "execute_result"
    }
   ],
   "source": [
    "#tail use for last 5 dataset\n",
    "df.tail()"
   ]
  },
  {
   "cell_type": "code",
   "execution_count": 132,
   "id": "a0a3ec18-f76a-4f5d-aeab-de8565a76faa",
   "metadata": {},
   "outputs": [
    {
     "data": {
      "text/html": [
       "<div>\n",
       "<style scoped>\n",
       "    .dataframe tbody tr th:only-of-type {\n",
       "        vertical-align: middle;\n",
       "    }\n",
       "\n",
       "    .dataframe tbody tr th {\n",
       "        vertical-align: top;\n",
       "    }\n",
       "\n",
       "    .dataframe thead th {\n",
       "        text-align: right;\n",
       "    }\n",
       "</style>\n",
       "<table border=\"1\" class=\"dataframe\">\n",
       "  <thead>\n",
       "    <tr style=\"text-align: right;\">\n",
       "      <th></th>\n",
       "      <th>Rank</th>\n",
       "      <th>Title</th>\n",
       "      <th>Employees</th>\n",
       "      <th>Sector</th>\n",
       "      <th>Industry</th>\n",
       "      <th>Hqcity</th>\n",
       "      <th>Ceo</th>\n",
       "      <th>Ceo-title</th>\n",
       "      <th>Revenues</th>\n",
       "      <th>Revchange</th>\n",
       "      <th>Profits</th>\n",
       "      <th>Prftchange</th>\n",
       "      <th>Assets</th>\n",
       "    </tr>\n",
       "  </thead>\n",
       "  <tbody>\n",
       "    <tr>\n",
       "      <th>0</th>\n",
       "      <td>1</td>\n",
       "      <td>Walmart</td>\n",
       "      <td>2300000</td>\n",
       "      <td>Retailing</td>\n",
       "      <td>General Merchandisers</td>\n",
       "      <td>Bentonville</td>\n",
       "      <td>C. Douglas McMillon</td>\n",
       "      <td>President, Chief Executive Officer &amp; Director</td>\n",
       "      <td>485873</td>\n",
       "      <td>0.8</td>\n",
       "      <td>13643.0</td>\n",
       "      <td>-7.2</td>\n",
       "      <td>198825</td>\n",
       "    </tr>\n",
       "    <tr>\n",
       "      <th>1</th>\n",
       "      <td>2</td>\n",
       "      <td>Berkshire Hathaway</td>\n",
       "      <td>367700</td>\n",
       "      <td>Financials</td>\n",
       "      <td>Insurance: Property and Casualty (Stock)</td>\n",
       "      <td>Omaha</td>\n",
       "      <td>Warren E. Buffett</td>\n",
       "      <td>Chairman &amp; Chief Executive Officer</td>\n",
       "      <td>223604</td>\n",
       "      <td>6.1</td>\n",
       "      <td>24074.0</td>\n",
       "      <td>0</td>\n",
       "      <td>620854</td>\n",
       "    </tr>\n",
       "    <tr>\n",
       "      <th>2</th>\n",
       "      <td>3</td>\n",
       "      <td>Apple</td>\n",
       "      <td>116000</td>\n",
       "      <td>Technology</td>\n",
       "      <td>Computers, Office Equipment</td>\n",
       "      <td>Cupertino</td>\n",
       "      <td>Timothy D. Cook</td>\n",
       "      <td>Chief Executive Officer &amp; Director</td>\n",
       "      <td>215639</td>\n",
       "      <td>-7.7</td>\n",
       "      <td>45687.0</td>\n",
       "      <td>-14.4</td>\n",
       "      <td>321686</td>\n",
       "    </tr>\n",
       "    <tr>\n",
       "      <th>3</th>\n",
       "      <td>4</td>\n",
       "      <td>Exxon Mobil</td>\n",
       "      <td>72700</td>\n",
       "      <td>Energy</td>\n",
       "      <td>Petroleum Refining</td>\n",
       "      <td>Irving</td>\n",
       "      <td>Darren W. Woods</td>\n",
       "      <td>Chairman &amp; Chief Executive Officer</td>\n",
       "      <td>205004</td>\n",
       "      <td>-16.7</td>\n",
       "      <td>7840.0</td>\n",
       "      <td>-51.5</td>\n",
       "      <td>330314</td>\n",
       "    </tr>\n",
       "    <tr>\n",
       "      <th>4</th>\n",
       "      <td>5</td>\n",
       "      <td>McKesson</td>\n",
       "      <td>68000</td>\n",
       "      <td>Wholesalers</td>\n",
       "      <td>Wholesalers: Health Care</td>\n",
       "      <td>San Francisco</td>\n",
       "      <td>John H. Hammergren</td>\n",
       "      <td>Chairman, President &amp; Chief Executive Officer</td>\n",
       "      <td>192487</td>\n",
       "      <td>6.2</td>\n",
       "      <td>2258.0</td>\n",
       "      <td>53</td>\n",
       "      <td>56563</td>\n",
       "    </tr>\n",
       "    <tr>\n",
       "      <th>5</th>\n",
       "      <td>6</td>\n",
       "      <td>UnitedHealth Group</td>\n",
       "      <td>230000</td>\n",
       "      <td>Health Care</td>\n",
       "      <td>Health Care: Insurance and Managed Care</td>\n",
       "      <td>Minnetonka</td>\n",
       "      <td>Stephen J. Hemsley</td>\n",
       "      <td>Chief Executive Officer &amp; Director</td>\n",
       "      <td>184840</td>\n",
       "      <td>17.7</td>\n",
       "      <td>7017.0</td>\n",
       "      <td>20.7</td>\n",
       "      <td>122810</td>\n",
       "    </tr>\n",
       "    <tr>\n",
       "      <th>6</th>\n",
       "      <td>7</td>\n",
       "      <td>CVS Health</td>\n",
       "      <td>204000</td>\n",
       "      <td>Health Care</td>\n",
       "      <td>Health Care: Pharmacy and Other Services</td>\n",
       "      <td>Woonsocket</td>\n",
       "      <td>Larry J. Merlo</td>\n",
       "      <td>President, Chief Executive Officer &amp; Director</td>\n",
       "      <td>177526</td>\n",
       "      <td>15.8</td>\n",
       "      <td>5317.0</td>\n",
       "      <td>1.5</td>\n",
       "      <td>94462</td>\n",
       "    </tr>\n",
       "  </tbody>\n",
       "</table>\n",
       "</div>"
      ],
      "text/plain": [
       "   Rank               Title  Employees       Sector  \\\n",
       "0     1             Walmart    2300000    Retailing   \n",
       "1     2  Berkshire Hathaway     367700   Financials   \n",
       "2     3               Apple     116000   Technology   \n",
       "3     4         Exxon Mobil      72700       Energy   \n",
       "4     5            McKesson      68000  Wholesalers   \n",
       "5     6  UnitedHealth Group     230000  Health Care   \n",
       "6     7          CVS Health     204000  Health Care   \n",
       "\n",
       "                                   Industry         Hqcity  \\\n",
       "0                     General Merchandisers    Bentonville   \n",
       "1  Insurance: Property and Casualty (Stock)          Omaha   \n",
       "2               Computers, Office Equipment      Cupertino   \n",
       "3                        Petroleum Refining         Irving   \n",
       "4                  Wholesalers: Health Care  San Francisco   \n",
       "5   Health Care: Insurance and Managed Care     Minnetonka   \n",
       "6  Health Care: Pharmacy and Other Services     Woonsocket   \n",
       "\n",
       "                   Ceo                                      Ceo-title  \\\n",
       "0  C. Douglas McMillon  President, Chief Executive Officer & Director   \n",
       "1    Warren E. Buffett             Chairman & Chief Executive Officer   \n",
       "2      Timothy D. Cook             Chief Executive Officer & Director   \n",
       "3      Darren W. Woods             Chairman & Chief Executive Officer   \n",
       "4   John H. Hammergren  Chairman, President & Chief Executive Officer   \n",
       "5   Stephen J. Hemsley             Chief Executive Officer & Director   \n",
       "6       Larry J. Merlo  President, Chief Executive Officer & Director   \n",
       "\n",
       "   Revenues  Revchange  Profits Prftchange  Assets  \n",
       "0    485873        0.8  13643.0       -7.2  198825  \n",
       "1    223604        6.1  24074.0          0  620854  \n",
       "2    215639       -7.7  45687.0      -14.4  321686  \n",
       "3    205004      -16.7   7840.0      -51.5  330314  \n",
       "4    192487        6.2   2258.0         53   56563  \n",
       "5    184840       17.7   7017.0       20.7  122810  \n",
       "6    177526       15.8   5317.0        1.5   94462  "
      ]
     },
     "execution_count": 132,
     "metadata": {},
     "output_type": "execute_result"
    }
   ],
   "source": [
    "# if we need 7 so on bracket\n",
    "df.head(7)"
   ]
  },
  {
   "cell_type": "code",
   "execution_count": 133,
   "id": "495bd2e6-d6d3-4d80-b546-b54b20724b30",
   "metadata": {},
   "outputs": [
    {
     "data": {
      "text/plain": [
       "(500, 13)"
      ]
     },
     "execution_count": 133,
     "metadata": {},
     "output_type": "execute_result"
    }
   ],
   "source": [
    "#dimension\n",
    "df.shape"
   ]
  },
  {
   "cell_type": "code",
   "execution_count": 134,
   "id": "8f2975cd-c45e-4a36-b071-df76e867169d",
   "metadata": {},
   "outputs": [
    {
     "name": "stdout",
     "output_type": "stream",
     "text": [
      "<class 'pandas.core.frame.DataFrame'>\n",
      "RangeIndex: 500 entries, 0 to 499\n",
      "Data columns (total 13 columns):\n",
      " #   Column      Non-Null Count  Dtype  \n",
      "---  ------      --------------  -----  \n",
      " 0   Rank        500 non-null    int64  \n",
      " 1   Title       500 non-null    object \n",
      " 2   Employees   500 non-null    int64  \n",
      " 3   Sector      500 non-null    object \n",
      " 4   Industry    500 non-null    object \n",
      " 5   Hqcity      500 non-null    object \n",
      " 6   Ceo         500 non-null    object \n",
      " 7   Ceo-title   500 non-null    object \n",
      " 8   Revenues    500 non-null    int64  \n",
      " 9   Revchange   500 non-null    float64\n",
      " 10  Profits     500 non-null    float64\n",
      " 11  Prftchange  500 non-null    object \n",
      " 12  Assets      500 non-null    int64  \n",
      "dtypes: float64(2), int64(4), object(7)\n",
      "memory usage: 50.9+ KB\n"
     ]
    }
   ],
   "source": [
    "# information of dta \n",
    "df.info()"
   ]
  },
  {
   "cell_type": "code",
   "execution_count": 135,
   "id": "5f8f6311-06ae-4a42-ac89-e2c52ef3ddfc",
   "metadata": {},
   "outputs": [],
   "source": [
    "#float for decimal no.\n",
    "#int for number\n",
    "  #  object for titles\n",
    "    #      in stats we use 2 int and float"
   ]
  },
  {
   "cell_type": "code",
   "execution_count": 136,
   "id": "c013ae7d-ef2f-469b-a86b-e0bb23a3c116",
   "metadata": {},
   "outputs": [
    {
     "data": {
      "text/html": [
       "<div>\n",
       "<style scoped>\n",
       "    .dataframe tbody tr th:only-of-type {\n",
       "        vertical-align: middle;\n",
       "    }\n",
       "\n",
       "    .dataframe tbody tr th {\n",
       "        vertical-align: top;\n",
       "    }\n",
       "\n",
       "    .dataframe thead th {\n",
       "        text-align: right;\n",
       "    }\n",
       "</style>\n",
       "<table border=\"1\" class=\"dataframe\">\n",
       "  <thead>\n",
       "    <tr style=\"text-align: right;\">\n",
       "      <th></th>\n",
       "      <th>Rank</th>\n",
       "      <th>Title</th>\n",
       "      <th>Employees</th>\n",
       "      <th>Sector</th>\n",
       "      <th>Revenues</th>\n",
       "      <th>Profits</th>\n",
       "    </tr>\n",
       "  </thead>\n",
       "  <tbody>\n",
       "    <tr>\n",
       "      <th>0</th>\n",
       "      <td>1</td>\n",
       "      <td>Walmart</td>\n",
       "      <td>2300000</td>\n",
       "      <td>Retailing</td>\n",
       "      <td>485873</td>\n",
       "      <td>13643.0</td>\n",
       "    </tr>\n",
       "    <tr>\n",
       "      <th>1</th>\n",
       "      <td>2</td>\n",
       "      <td>Berkshire Hathaway</td>\n",
       "      <td>367700</td>\n",
       "      <td>Financials</td>\n",
       "      <td>223604</td>\n",
       "      <td>24074.0</td>\n",
       "    </tr>\n",
       "    <tr>\n",
       "      <th>2</th>\n",
       "      <td>3</td>\n",
       "      <td>Apple</td>\n",
       "      <td>116000</td>\n",
       "      <td>Technology</td>\n",
       "      <td>215639</td>\n",
       "      <td>45687.0</td>\n",
       "    </tr>\n",
       "    <tr>\n",
       "      <th>3</th>\n",
       "      <td>4</td>\n",
       "      <td>Exxon Mobil</td>\n",
       "      <td>72700</td>\n",
       "      <td>Energy</td>\n",
       "      <td>205004</td>\n",
       "      <td>7840.0</td>\n",
       "    </tr>\n",
       "    <tr>\n",
       "      <th>4</th>\n",
       "      <td>5</td>\n",
       "      <td>McKesson</td>\n",
       "      <td>68000</td>\n",
       "      <td>Wholesalers</td>\n",
       "      <td>192487</td>\n",
       "      <td>2258.0</td>\n",
       "    </tr>\n",
       "  </tbody>\n",
       "</table>\n",
       "</div>"
      ],
      "text/plain": [
       "   Rank               Title  Employees       Sector  Revenues  Profits\n",
       "0     1             Walmart    2300000    Retailing    485873  13643.0\n",
       "1     2  Berkshire Hathaway     367700   Financials    223604  24074.0\n",
       "2     3               Apple     116000   Technology    215639  45687.0\n",
       "3     4         Exxon Mobil      72700       Energy    205004   7840.0\n",
       "4     5            McKesson      68000  Wholesalers    192487   2258.0"
      ]
     },
     "execution_count": 136,
     "metadata": {},
     "output_type": "execute_result"
    }
   ],
   "source": [
    "sub_df=df[['Rank','Title','Employees','Sector','Revenues','Profits']]\n",
    "sub_df.head()"
   ]
  },
  {
   "cell_type": "code",
   "execution_count": 137,
   "id": "6744c70e-9ca3-461b-8f5f-88c6a05d2ff2",
   "metadata": {},
   "outputs": [
    {
     "data": {
      "text/plain": [
       "0               Walmart\n",
       "1    Berkshire Hathaway\n",
       "2                 Apple\n",
       "3           Exxon Mobil\n",
       "4              McKesson\n",
       "Name: Title, dtype: object"
      ]
     },
     "execution_count": 137,
     "metadata": {},
     "output_type": "execute_result"
    }
   ],
   "source": [
    "d3=df['Title']\n",
    "d3.head()"
   ]
  },
  {
   "cell_type": "code",
   "execution_count": 138,
   "id": "43054097-6a82-47cc-9658-5d99306bac8d",
   "metadata": {},
   "outputs": [
    {
     "data": {
      "text/html": [
       "<div>\n",
       "<style scoped>\n",
       "    .dataframe tbody tr th:only-of-type {\n",
       "        vertical-align: middle;\n",
       "    }\n",
       "\n",
       "    .dataframe tbody tr th {\n",
       "        vertical-align: top;\n",
       "    }\n",
       "\n",
       "    .dataframe thead th {\n",
       "        text-align: right;\n",
       "    }\n",
       "</style>\n",
       "<table border=\"1\" class=\"dataframe\">\n",
       "  <thead>\n",
       "    <tr style=\"text-align: right;\">\n",
       "      <th></th>\n",
       "      <th>Rank</th>\n",
       "      <th>Employees</th>\n",
       "      <th>Revenues</th>\n",
       "      <th>Profits</th>\n",
       "    </tr>\n",
       "  </thead>\n",
       "  <tbody>\n",
       "    <tr>\n",
       "      <th>count</th>\n",
       "      <td>500.000000</td>\n",
       "      <td>5.000000e+02</td>\n",
       "      <td>500.000000</td>\n",
       "      <td>500.000000</td>\n",
       "    </tr>\n",
       "    <tr>\n",
       "      <th>mean</th>\n",
       "      <td>250.492000</td>\n",
       "      <td>5.635013e+04</td>\n",
       "      <td>24111.748000</td>\n",
       "      <td>1779.479800</td>\n",
       "    </tr>\n",
       "    <tr>\n",
       "      <th>std</th>\n",
       "      <td>144.477366</td>\n",
       "      <td>1.234520e+05</td>\n",
       "      <td>38337.353337</td>\n",
       "      <td>3937.558721</td>\n",
       "    </tr>\n",
       "    <tr>\n",
       "      <th>min</th>\n",
       "      <td>1.000000</td>\n",
       "      <td>8.300000e+01</td>\n",
       "      <td>5145.000000</td>\n",
       "      <td>-6177.000000</td>\n",
       "    </tr>\n",
       "    <tr>\n",
       "      <th>25%</th>\n",
       "      <td>125.750000</td>\n",
       "      <td>1.190000e+04</td>\n",
       "      <td>7245.000000</td>\n",
       "      <td>235.725000</td>\n",
       "    </tr>\n",
       "    <tr>\n",
       "      <th>50%</th>\n",
       "      <td>250.500000</td>\n",
       "      <td>2.500000e+04</td>\n",
       "      <td>11384.000000</td>\n",
       "      <td>683.600000</td>\n",
       "    </tr>\n",
       "    <tr>\n",
       "      <th>75%</th>\n",
       "      <td>375.250000</td>\n",
       "      <td>5.682525e+04</td>\n",
       "      <td>22605.250000</td>\n",
       "      <td>1770.775000</td>\n",
       "    </tr>\n",
       "    <tr>\n",
       "      <th>max</th>\n",
       "      <td>500.000000</td>\n",
       "      <td>2.300000e+06</td>\n",
       "      <td>485873.000000</td>\n",
       "      <td>45687.000000</td>\n",
       "    </tr>\n",
       "  </tbody>\n",
       "</table>\n",
       "</div>"
      ],
      "text/plain": [
       "             Rank     Employees       Revenues       Profits\n",
       "count  500.000000  5.000000e+02     500.000000    500.000000\n",
       "mean   250.492000  5.635013e+04   24111.748000   1779.479800\n",
       "std    144.477366  1.234520e+05   38337.353337   3937.558721\n",
       "min      1.000000  8.300000e+01    5145.000000  -6177.000000\n",
       "25%    125.750000  1.190000e+04    7245.000000    235.725000\n",
       "50%    250.500000  2.500000e+04   11384.000000    683.600000\n",
       "75%    375.250000  5.682525e+04   22605.250000   1770.775000\n",
       "max    500.000000  2.300000e+06  485873.000000  45687.000000"
      ]
     },
     "execution_count": 138,
     "metadata": {},
     "output_type": "execute_result"
    }
   ],
   "source": [
    "sub_df.describe()"
   ]
  },
  {
   "cell_type": "code",
   "execution_count": 139,
   "id": "17d755d4-05a3-48e2-ac6e-5cdfbcae2313",
   "metadata": {},
   "outputs": [
    {
     "data": {
      "text/plain": [
       "1779.4797999999998"
      ]
     },
     "execution_count": 139,
     "metadata": {},
     "output_type": "execute_result"
    }
   ],
   "source": [
    "mean=sub_df['Profits'].mean()\n",
    "mean"
   ]
  },
  {
   "cell_type": "code",
   "execution_count": 140,
   "id": "4cee851b-b165-49a4-b8ac-db7e401c2582",
   "metadata": {},
   "outputs": [
    {
     "name": "stdout",
     "output_type": "stream",
     "text": [
      "1779.4797999999998\n"
     ]
    }
   ],
   "source": [
    "# both work mean or print mean\n",
    "print (mean)"
   ]
  },
  {
   "cell_type": "code",
   "execution_count": 141,
   "id": "f81dfe63-72d5-4abe-a1a1-ec467691496b",
   "metadata": {},
   "outputs": [
    {
     "data": {
      "text/plain": [
       "683.6"
      ]
     },
     "execution_count": 141,
     "metadata": {},
     "output_type": "execute_result"
    }
   ],
   "source": [
    "median=sub_df['Profits'].median()\n",
    "median"
   ]
  },
  {
   "cell_type": "code",
   "execution_count": 142,
   "id": "c211933b-af98-413b-8a30-86668d857f26",
   "metadata": {},
   "outputs": [
    {
     "name": "stdout",
     "output_type": "stream",
     "text": [
      "683.6\n"
     ]
    }
   ],
   "source": [
    "print (median)"
   ]
  },
  {
   "cell_type": "code",
   "execution_count": 143,
   "id": "90ded0bb-d7c9-4282-9354-308db2f0c9c3",
   "metadata": {},
   "outputs": [
    {
     "data": {
      "text/plain": [
       "0    -214.3\n",
       "1     324.0\n",
       "2     382.1\n",
       "3     396.0\n",
       "4     734.0\n",
       "5    1768.0\n",
       "Name: Profits, dtype: float64"
      ]
     },
     "execution_count": 143,
     "metadata": {},
     "output_type": "execute_result"
    }
   ],
   "source": [
    "mode=sub_df['Profits'].mode()\n",
    "mode"
   ]
  },
  {
   "cell_type": "code",
   "execution_count": 144,
   "id": "0a5e2b58-23ca-4e0a-98af-ecca05367066",
   "metadata": {},
   "outputs": [
    {
     "name": "stdout",
     "output_type": "stream",
     "text": [
      "0    -214.3\n",
      "1     324.0\n",
      "2     382.1\n",
      "3     396.0\n",
      "4     734.0\n",
      "5    1768.0\n",
      "Name: Profits, dtype: float64\n"
     ]
    }
   ],
   "source": [
    "print(mode)"
   ]
  },
  {
   "cell_type": "code",
   "execution_count": 145,
   "id": "9d99e2b9-4c6b-4004-a42c-8e6d78b7ad45",
   "metadata": {},
   "outputs": [
    {
     "data": {
      "text/plain": [
       "0    9061\n",
       "Name: Revenues, dtype: int64"
      ]
     },
     "execution_count": 145,
     "metadata": {},
     "output_type": "execute_result"
    }
   ],
   "source": [
    "mode2=sub_df['Revenues'].mode()\n",
    "mode2"
   ]
  },
  {
   "cell_type": "code",
   "execution_count": 146,
   "id": "9177a088-6153-4457-8ec4-78a637c76903",
   "metadata": {},
   "outputs": [
    {
     "data": {
      "text/plain": [
       "45687.0"
      ]
     },
     "execution_count": 146,
     "metadata": {},
     "output_type": "execute_result"
    }
   ],
   "source": [
    "l=sub_df['Profits'].max()\n",
    "l"
   ]
  },
  {
   "cell_type": "code",
   "execution_count": 147,
   "id": "cdcacd26-9313-4643-a431-0cc6f3c42122",
   "metadata": {},
   "outputs": [
    {
     "data": {
      "text/plain": [
       "-6177.0"
      ]
     },
     "execution_count": 147,
     "metadata": {},
     "output_type": "execute_result"
    }
   ],
   "source": [
    "s=sub_df['Profits'].min()\n",
    "s"
   ]
  },
  {
   "cell_type": "code",
   "execution_count": 148,
   "id": "bdb2b9ed-b765-43da-bccf-be659aee4435",
   "metadata": {},
   "outputs": [
    {
     "data": {
      "text/plain": [
       "51864.0"
      ]
     },
     "execution_count": 148,
     "metadata": {},
     "output_type": "execute_result"
    }
   ],
   "source": [
    "range=l-s\n",
    "range"
   ]
  },
  {
   "cell_type": "code",
   "execution_count": 149,
   "id": "a9f8dca6-3e96-4a58-8f28-5d4afb5002aa",
   "metadata": {},
   "outputs": [
    {
     "data": {
      "text/plain": [
       "51864.0"
      ]
     },
     "execution_count": 149,
     "metadata": {},
     "output_type": "execute_result"
    }
   ],
   "source": [
    "r=sub_df['Profits'].max()-sub_df['Profits'].min()\n",
    "r"
   ]
  },
  {
   "cell_type": "code",
   "execution_count": 150,
   "id": "fc1d14de-58d6-45a6-8fbc-4d75eb378070",
   "metadata": {},
   "outputs": [],
   "source": [
    "#quartile percentile \n",
    "#q1=p25  0.25\n",
    "#q2=p50 0.5\n",
    "#q3=p75  0.75"
   ]
  },
  {
   "cell_type": "code",
   "execution_count": 151,
   "id": "444e87c2-2a79-403c-a699-aa44b321c5f7",
   "metadata": {},
   "outputs": [
    {
     "data": {
      "text/plain": [
       "235.725"
      ]
     },
     "execution_count": 151,
     "metadata": {},
     "output_type": "execute_result"
    }
   ],
   "source": [
    "#quantile\n",
    "q1=sub_df['Profits'].quantile(0.25)\n",
    "q1"
   ]
  },
  {
   "cell_type": "code",
   "execution_count": 152,
   "id": "476dfc29-d583-4bdd-b7b5-5c9e84a91ccb",
   "metadata": {},
   "outputs": [
    {
     "data": {
      "text/plain": [
       "432.063"
      ]
     },
     "execution_count": 152,
     "metadata": {},
     "output_type": "execute_result"
    }
   ],
   "source": [
    "#37th percentile.quantile(0.37)\n",
    "p37=sub_df['Profits'].quantile(0.37)\n",
    "p37"
   ]
  },
  {
   "cell_type": "code",
   "execution_count": null,
   "id": "4d464066-0d0e-4a66-a80d-e9cb77073c3f",
   "metadata": {},
   "outputs": [],
   "source": []
  },
  {
   "cell_type": "code",
   "execution_count": 153,
   "id": "c6ee46d9-b559-496d-b85e-9f9b02bab3f3",
   "metadata": {},
   "outputs": [
    {
     "data": {
      "text/plain": [
       "1770.775"
      ]
     },
     "execution_count": 153,
     "metadata": {},
     "output_type": "execute_result"
    }
   ],
   "source": [
    "q3=sub_df['Profits'].quantile(0.75)\n",
    "q3"
   ]
  },
  {
   "cell_type": "code",
   "execution_count": 154,
   "id": "518cf1e0-8c8b-4c4d-84e2-2a971068114e",
   "metadata": {},
   "outputs": [
    {
     "data": {
      "text/plain": [
       "1535.0500000000002"
      ]
     },
     "execution_count": 154,
     "metadata": {},
     "output_type": "execute_result"
    }
   ],
   "source": [
    "iqr=q3-q1\n",
    "iqr"
   ]
  },
  {
   "cell_type": "code",
   "execution_count": 155,
   "id": "a38164c1-776b-46d4-862b-4a2f08e96945",
   "metadata": {},
   "outputs": [
    {
     "data": {
      "text/plain": [
       "3937.558720894575"
      ]
     },
     "execution_count": 155,
     "metadata": {},
     "output_type": "execute_result"
    }
   ],
   "source": [
    "sd=sub_df['Profits'].std()\n",
    "sd"
   ]
  },
  {
   "cell_type": "code",
   "execution_count": 156,
   "id": "31b34304-bced-4b1f-aa4b-d741715d7c67",
   "metadata": {},
   "outputs": [
    {
     "data": {
      "text/plain": [
       "1535.0500000000002"
      ]
     },
     "execution_count": 156,
     "metadata": {},
     "output_type": "execute_result"
    }
   ],
   "source": [
    "iqr2=sub_df['Profits'].quantile(0.75)-sub_df['Profits'].quantile(0.25)\n",
    "iqr2"
   ]
  },
  {
   "cell_type": "code",
   "execution_count": 157,
   "id": "b93edcc5-c639-4627-870d-13fc81f96608",
   "metadata": {},
   "outputs": [],
   "source": [
    "#calculate the co-efficient of variation for the 'profits' column."
   ]
  },
  {
   "cell_type": "code",
   "execution_count": 158,
   "id": "2bd14ac0-78c6-495f-8ec3-e942e29176ed",
   "metadata": {},
   "outputs": [
    {
     "data": {
      "text/plain": [
       "221.2758313353473"
      ]
     },
     "execution_count": 158,
     "metadata": {},
     "output_type": "execute_result"
    }
   ],
   "source": [
    "cv=sd/mean*100\n",
    "cv"
   ]
  },
  {
   "cell_type": "code",
   "execution_count": 159,
   "id": "3428e7e8-5426-4e54-812b-76d47987b939",
   "metadata": {},
   "outputs": [],
   "source": [
    "#skewness"
   ]
  },
  {
   "cell_type": "code",
   "execution_count": 160,
   "id": "1aced1cb-49a1-4707-8137-92de03d86c59",
   "metadata": {},
   "outputs": [
    {
     "data": {
      "text/plain": [
       "-32.87639399999999"
      ]
     },
     "execution_count": 160,
     "metadata": {},
     "output_type": "execute_result"
    }
   ],
   "source": [
    "skewness=3*(sub_df['Profits'].median()-sub_df['Profits'].mean())/100.\n",
    "skewness"
   ]
  },
  {
   "cell_type": "code",
   "execution_count": 161,
   "id": "d752a93e-bbea-42eb-97e5-19a633f0530f",
   "metadata": {},
   "outputs": [
    {
     "data": {
      "text/plain": [
       "4.910176826618978"
      ]
     },
     "execution_count": 161,
     "metadata": {},
     "output_type": "execute_result"
    }
   ],
   "source": [
    "skew=sub_df['Profits'].skew()\n",
    "skew"
   ]
  },
  {
   "cell_type": "code",
   "execution_count": 162,
   "id": "2706846b-f8dd-4b9c-96c8-400ecf517eb7",
   "metadata": {},
   "outputs": [
    {
     "data": {
      "text/html": [
       "<div>\n",
       "<style scoped>\n",
       "    .dataframe tbody tr th:only-of-type {\n",
       "        vertical-align: middle;\n",
       "    }\n",
       "\n",
       "    .dataframe tbody tr th {\n",
       "        vertical-align: top;\n",
       "    }\n",
       "\n",
       "    .dataframe thead th {\n",
       "        text-align: right;\n",
       "    }\n",
       "</style>\n",
       "<table border=\"1\" class=\"dataframe\">\n",
       "  <thead>\n",
       "    <tr style=\"text-align: right;\">\n",
       "      <th></th>\n",
       "      <th>Rank</th>\n",
       "      <th>Title</th>\n",
       "      <th>Employees</th>\n",
       "      <th>Sector</th>\n",
       "      <th>Revenues</th>\n",
       "      <th>Profits</th>\n",
       "    </tr>\n",
       "  </thead>\n",
       "  <tbody>\n",
       "    <tr>\n",
       "      <th>152</th>\n",
       "      <td>153</td>\n",
       "      <td>Hartford Financial Services Group</td>\n",
       "      <td>16900</td>\n",
       "      <td>Financials</td>\n",
       "      <td>18300</td>\n",
       "      <td>896.0</td>\n",
       "    </tr>\n",
       "    <tr>\n",
       "      <th>292</th>\n",
       "      <td>293</td>\n",
       "      <td>Fidelity National Financial</td>\n",
       "      <td>55219</td>\n",
       "      <td>Financials</td>\n",
       "      <td>9554</td>\n",
       "      <td>650.0</td>\n",
       "    </tr>\n",
       "    <tr>\n",
       "      <th>406</th>\n",
       "      <td>407</td>\n",
       "      <td>J.B. Hunt Transport Services</td>\n",
       "      <td>22190</td>\n",
       "      <td>Transportation</td>\n",
       "      <td>6556</td>\n",
       "      <td>432.1</td>\n",
       "    </tr>\n",
       "    <tr>\n",
       "      <th>365</th>\n",
       "      <td>366</td>\n",
       "      <td>Quest Diagnostics</td>\n",
       "      <td>43000</td>\n",
       "      <td>Health Care</td>\n",
       "      <td>7515</td>\n",
       "      <td>645.0</td>\n",
       "    </tr>\n",
       "    <tr>\n",
       "      <th>467</th>\n",
       "      <td>468</td>\n",
       "      <td>NetApp</td>\n",
       "      <td>12030</td>\n",
       "      <td>Technology</td>\n",
       "      <td>5546</td>\n",
       "      <td>229.0</td>\n",
       "    </tr>\n",
       "  </tbody>\n",
       "</table>\n",
       "</div>"
      ],
      "text/plain": [
       "     Rank                              Title  Employees          Sector  \\\n",
       "152   153  Hartford Financial Services Group      16900      Financials   \n",
       "292   293        Fidelity National Financial      55219      Financials   \n",
       "406   407       J.B. Hunt Transport Services      22190  Transportation   \n",
       "365   366                  Quest Diagnostics      43000     Health Care   \n",
       "467   468                             NetApp      12030      Technology   \n",
       "\n",
       "     Revenues  Profits  \n",
       "152     18300    896.0  \n",
       "292      9554    650.0  \n",
       "406      6556    432.1  \n",
       "365      7515    645.0  \n",
       "467      5546    229.0  "
      ]
     },
     "execution_count": 162,
     "metadata": {},
     "output_type": "execute_result"
    }
   ],
   "source": [
    "# any 5 sample data\n",
    "sub_df.sample(5)"
   ]
  },
  {
   "cell_type": "code",
   "execution_count": 163,
   "id": "cda72a02-24e3-46bb-8fd0-acdf00e9f047",
   "metadata": {},
   "outputs": [
    {
     "data": {
      "text/html": [
       "<div>\n",
       "<style scoped>\n",
       "    .dataframe tbody tr th:only-of-type {\n",
       "        vertical-align: middle;\n",
       "    }\n",
       "\n",
       "    .dataframe tbody tr th {\n",
       "        vertical-align: top;\n",
       "    }\n",
       "\n",
       "    .dataframe thead th {\n",
       "        text-align: right;\n",
       "    }\n",
       "</style>\n",
       "<table border=\"1\" class=\"dataframe\">\n",
       "  <thead>\n",
       "    <tr style=\"text-align: right;\">\n",
       "      <th></th>\n",
       "      <th>Rank</th>\n",
       "      <th>Title</th>\n",
       "      <th>Employees</th>\n",
       "      <th>Sector</th>\n",
       "      <th>Revenues</th>\n",
       "      <th>Profits</th>\n",
       "    </tr>\n",
       "  </thead>\n",
       "  <tbody>\n",
       "    <tr>\n",
       "      <th>84</th>\n",
       "      <td>85</td>\n",
       "      <td>Publix Super Markets</td>\n",
       "      <td>191000</td>\n",
       "      <td>Food &amp; Drug Stores</td>\n",
       "      <td>34274</td>\n",
       "      <td>2025.7</td>\n",
       "    </tr>\n",
       "    <tr>\n",
       "      <th>233</th>\n",
       "      <td>234</td>\n",
       "      <td>Consolidated Edison</td>\n",
       "      <td>14960</td>\n",
       "      <td>Energy</td>\n",
       "      <td>12075</td>\n",
       "      <td>1245.0</td>\n",
       "    </tr>\n",
       "    <tr>\n",
       "      <th>329</th>\n",
       "      <td>330</td>\n",
       "      <td>Live Nation Entertainment</td>\n",
       "      <td>11500</td>\n",
       "      <td>Media</td>\n",
       "      <td>8355</td>\n",
       "      <td>2.9</td>\n",
       "    </tr>\n",
       "    <tr>\n",
       "      <th>82</th>\n",
       "      <td>83</td>\n",
       "      <td>United Continental Holdings</td>\n",
       "      <td>88000</td>\n",
       "      <td>Transportation</td>\n",
       "      <td>36556</td>\n",
       "      <td>2263.0</td>\n",
       "    </tr>\n",
       "    <tr>\n",
       "      <th>426</th>\n",
       "      <td>427</td>\n",
       "      <td>TreeHouse Foods</td>\n",
       "      <td>16027</td>\n",
       "      <td>Food, Beverages &amp; Tobacco</td>\n",
       "      <td>6175</td>\n",
       "      <td>-228.6</td>\n",
       "    </tr>\n",
       "  </tbody>\n",
       "</table>\n",
       "</div>"
      ],
      "text/plain": [
       "     Rank                        Title  Employees                     Sector  \\\n",
       "84     85         Publix Super Markets     191000         Food & Drug Stores   \n",
       "233   234          Consolidated Edison      14960                     Energy   \n",
       "329   330    Live Nation Entertainment      11500                      Media   \n",
       "82     83  United Continental Holdings      88000             Transportation   \n",
       "426   427              TreeHouse Foods      16027  Food, Beverages & Tobacco   \n",
       "\n",
       "     Revenues  Profits  \n",
       "84      34274   2025.7  \n",
       "233     12075   1245.0  \n",
       "329      8355      2.9  \n",
       "82      36556   2263.0  \n",
       "426      6175   -228.6  "
      ]
     },
     "execution_count": 163,
     "metadata": {},
     "output_type": "execute_result"
    }
   ],
   "source": [
    "# rows %\n",
    "sub_df.sample(frac=0.01)"
   ]
  },
  {
   "cell_type": "code",
   "execution_count": 164,
   "id": "75714999-b8e2-4418-bd48-9d9c7b988b4e",
   "metadata": {},
   "outputs": [
    {
     "data": {
      "text/plain": [
       "2017.1891428571428"
      ]
     },
     "execution_count": 164,
     "metadata": {},
     "output_type": "execute_result"
    }
   ],
   "source": [
    "#select 70% of the data at random and calculate mean of its profits column\n",
    "sub_df.sample(frac=0.7)['Profits'].mean()"
   ]
  },
  {
   "cell_type": "code",
   "execution_count": 165,
   "id": "072951fc-11b6-43c5-b710-7c10ccdd64b2",
   "metadata": {},
   "outputs": [
    {
     "data": {
      "text/plain": [
       "885.6"
      ]
     },
     "execution_count": 165,
     "metadata": {},
     "output_type": "execute_result"
    }
   ],
   "source": [
    "# or\n",
    "df2=sub_df.sample(frac=0.01)\n",
    "df2['Profits'].mean()"
   ]
  },
  {
   "cell_type": "code",
   "execution_count": 166,
   "id": "2b686c59-80ba-4c28-8696-c3d35e6e02e0",
   "metadata": {},
   "outputs": [
    {
     "data": {
      "text/plain": [
       "1138.8200000000002"
      ]
     },
     "execution_count": 166,
     "metadata": {},
     "output_type": "execute_result"
    }
   ],
   "source": [
    "df3=sub_df.sample(frac=0.01,random_state=1)\n",
    "df3['Profits'].mean()"
   ]
  },
  {
   "cell_type": "code",
   "execution_count": 167,
   "id": "46a916b4-6d83-4d86-86d2-d2c36db15385",
   "metadata": {},
   "outputs": [
    {
     "data": {
      "text/plain": [
       "-130.73999999999995"
      ]
     },
     "execution_count": 167,
     "metadata": {},
     "output_type": "execute_result"
    }
   ],
   "source": [
    "df2=sub_df.sample(frac=0.01,random_state=50)\n",
    "df2['Profits'].mean()"
   ]
  },
  {
   "cell_type": "code",
   "execution_count": 168,
   "id": "d3e9e8f1-b54a-40c1-9afe-50270af8653c",
   "metadata": {},
   "outputs": [
    {
     "data": {
      "text/plain": [
       "1709.9023333333334"
      ]
     },
     "execution_count": 168,
     "metadata": {},
     "output_type": "execute_result"
    }
   ],
   "source": [
    "#select 60% random rows from the dataset and consider this as sample.calculate the mean of thissample with the raspect to profits column repeat the process 5 times\n",
    "#compute the diff b/w the actual mean of the column and each sample mean separately.\n",
    "df4=sub_df.sample(frac=0.6,random_state=4)\n",
    "c=df4['Profits'].mean()\n",
    "c"
   ]
  },
  {
   "cell_type": "code",
   "execution_count": 169,
   "id": "82278c50-4adb-404b-bec4-145ae8d77600",
   "metadata": {},
   "outputs": [
    {
     "data": {
      "text/plain": [
       "1787.744"
      ]
     },
     "execution_count": 169,
     "metadata": {},
     "output_type": "execute_result"
    }
   ],
   "source": [
    "df=sub_df.sample(frac=0.6,random_state=5)\n",
    "a=df['Profits'].mean()\n",
    "a"
   ]
  },
  {
   "cell_type": "code",
   "execution_count": 170,
   "id": "ec2c6a82-45f8-4356-a219-292084455a8b",
   "metadata": {},
   "outputs": [
    {
     "data": {
      "text/plain": [
       "1654.462"
      ]
     },
     "execution_count": 170,
     "metadata": {},
     "output_type": "execute_result"
    }
   ],
   "source": [
    "df4=sub_df.sample(frac=0.6,random_state=8)\n",
    "b=df4['Profits'].mean()\n",
    "b"
   ]
  },
  {
   "cell_type": "code",
   "execution_count": 171,
   "id": "d488dcb1-c6dd-43f2-a639-1ffcb8ed114c",
   "metadata": {},
   "outputs": [
    {
     "data": {
      "text/plain": [
       "1595.0813333333333"
      ]
     },
     "execution_count": 171,
     "metadata": {},
     "output_type": "execute_result"
    }
   ],
   "source": [
    "df4=sub_df.sample(frac=0.6,random_state=6)\n",
    "d=df4['Profits'].mean()\n",
    "d"
   ]
  },
  {
   "cell_type": "code",
   "execution_count": 172,
   "id": "b53f1c3b-5bd4-4b5e-bf94-a4029550e5ad",
   "metadata": {},
   "outputs": [
    {
     "data": {
      "text/plain": [
       "1941.498"
      ]
     },
     "execution_count": 172,
     "metadata": {},
     "output_type": "execute_result"
    }
   ],
   "source": [
    "df4=sub_df.sample(frac=0.6,random_state=9)\n",
    "e=df4['Profits'].mean()\n",
    "e"
   ]
  },
  {
   "cell_type": "code",
   "execution_count": 173,
   "id": "a50aa29a-782f-4748-a8da-2ab4a0dee313",
   "metadata": {},
   "outputs": [
    {
     "data": {
      "text/plain": [
       "1779.4797999999998"
      ]
     },
     "execution_count": 173,
     "metadata": {},
     "output_type": "execute_result"
    }
   ],
   "source": [
    "mean=sub_df['Profits'].mean()\n",
    "mean"
   ]
  },
  {
   "cell_type": "code",
   "execution_count": 174,
   "id": "81fb3b16-76c4-4334-aa45-6dcebf697df8",
   "metadata": {},
   "outputs": [
    {
     "data": {
      "text/plain": [
       "-8.264200000000073"
      ]
     },
     "execution_count": 174,
     "metadata": {},
     "output_type": "execute_result"
    }
   ],
   "source": [
    "mean-a"
   ]
  },
  {
   "cell_type": "code",
   "execution_count": 175,
   "id": "772339ed-ae7d-4e19-9c25-cb41781f0573",
   "metadata": {},
   "outputs": [
    {
     "data": {
      "text/plain": [
       "125.01779999999985"
      ]
     },
     "execution_count": 175,
     "metadata": {},
     "output_type": "execute_result"
    }
   ],
   "source": [
    "mean-b"
   ]
  },
  {
   "cell_type": "code",
   "execution_count": 176,
   "id": "7946eef1-8010-40d3-9d6b-af725ffa5a8a",
   "metadata": {},
   "outputs": [
    {
     "data": {
      "text/plain": [
       "69.5774666666664"
      ]
     },
     "execution_count": 176,
     "metadata": {},
     "output_type": "execute_result"
    }
   ],
   "source": [
    "mean-c"
   ]
  },
  {
   "cell_type": "code",
   "execution_count": 177,
   "id": "45cce319-d8b4-4038-971a-14130bb42c5e",
   "metadata": {},
   "outputs": [
    {
     "data": {
      "text/plain": [
       "184.39846666666654"
      ]
     },
     "execution_count": 177,
     "metadata": {},
     "output_type": "execute_result"
    }
   ],
   "source": [
    "mean-d"
   ]
  },
  {
   "cell_type": "code",
   "execution_count": 178,
   "id": "06f03d7c-d879-4db4-9cc6-3292f196e3dc",
   "metadata": {},
   "outputs": [
    {
     "data": {
      "text/plain": [
       "184.39846666666654"
      ]
     },
     "execution_count": 178,
     "metadata": {},
     "output_type": "execute_result"
    }
   ],
   "source": [
    "mean-d"
   ]
  },
  {
   "cell_type": "code",
   "execution_count": 179,
   "id": "51d3f3ab-5213-4c33-8d1f-267980b5691b",
   "metadata": {},
   "outputs": [
    {
     "data": {
      "text/plain": [
       "-162.0182000000002"
      ]
     },
     "execution_count": 179,
     "metadata": {},
     "output_type": "execute_result"
    }
   ],
   "source": [
    "mean-e"
   ]
  },
  {
   "cell_type": "code",
   "execution_count": 180,
   "id": "9d432ea3-fbd0-4cc9-acdc-0637db32aee9",
   "metadata": {},
   "outputs": [],
   "source": [
    "q1=sub_df['Revenues'].quantile(0.25)\n",
    "q3=sub_df['Revenues'].quantile(0.75)\n",
    "iqr=q3-q1\n",
    "iqr=sub_df['Revenues'].quantile(0.75)-sub_df['Revenues'].quantile(0.25)"
   ]
  },
  {
   "cell_type": "code",
   "execution_count": 181,
   "id": "42c1b7a6-a37d-497e-8a43-0005c9619b1f",
   "metadata": {},
   "outputs": [
    {
     "data": {
      "text/plain": [
       "-15795.375"
      ]
     },
     "execution_count": 181,
     "metadata": {},
     "output_type": "execute_result"
    }
   ],
   "source": [
    "lower_bound=q1-1.5*iqr\n",
    "upper_bound=q3+1.5*iqr\n",
    "lower_bound"
   ]
  },
  {
   "cell_type": "code",
   "execution_count": 182,
   "id": "7e4d923f-1f4b-4025-b60e-94f1564adb58",
   "metadata": {},
   "outputs": [
    {
     "data": {
      "text/plain": [
       "45645.625"
      ]
     },
     "execution_count": 182,
     "metadata": {},
     "output_type": "execute_result"
    }
   ],
   "source": [
    "upper_bound\n"
   ]
  },
  {
   "cell_type": "code",
   "execution_count": 183,
   "id": "e0ad1303-d983-42c8-aad9-5d6e3a979bf6",
   "metadata": {},
   "outputs": [
    {
     "name": "stdout",
     "output_type": "stream",
     "text": [
      "outlier rows:\n",
      "    Rank                       Title  Employees          Sector  Revenues  \\\n",
      "0      1                     Walmart    2300000       Retailing    485873   \n",
      "1      2          Berkshire Hathaway     367700      Financials    223604   \n",
      "2      3                       Apple     116000      Technology    215639   \n",
      "3      4                 Exxon Mobil      72700          Energy    205004   \n",
      "4      5                    McKesson      68000     Wholesalers    192487   \n",
      "..   ...                         ...        ...             ...       ...   \n",
      "57    58                       FedEx     335767  Transportation     50365   \n",
      "58    59  Hewlett Packard Enterprise     195000      Technology     50123   \n",
      "59    60               Cisco Systems      73700      Technology     49247   \n",
      "60    61                          HP      49000      Technology     48238   \n",
      "61    62                Dow Chemical      56000       Chemicals     48158   \n",
      "\n",
      "    Profits  \n",
      "0   13643.0  \n",
      "1   24074.0  \n",
      "2   45687.0  \n",
      "3    7840.0  \n",
      "4    2258.0  \n",
      "..      ...  \n",
      "57   1820.0  \n",
      "58   3161.0  \n",
      "59  10739.0  \n",
      "60   2496.0  \n",
      "61   4318.0  \n",
      "\n",
      "[62 rows x 6 columns]\n"
     ]
    }
   ],
   "source": [
    "outliers=sub_df[(sub_df['Revenues'] < lower_bound) |\n",
    "                (sub_df['Revenues'] > upper_bound)]\n",
    "print(\"outlier rows:\")\n",
    "print(outliers)"
   ]
  },
  {
   "cell_type": "code",
   "execution_count": 184,
   "id": "f76abb61-9c3d-4451-a22b-b466da0b0cdb",
   "metadata": {},
   "outputs": [],
   "source": [
    "q1=sub_df['Profits'].quantile(0.25)\n",
    "q3=sub_df['Profits'].quantile(0.75)\n",
    "iqr=q3-q1\n",
    "iqr=sub_df['Profits'].quantile(0.75)-sub_df['Profits'].quantile(0.25)"
   ]
  },
  {
   "cell_type": "code",
   "execution_count": 185,
   "id": "fccddcff-497e-42c2-95ed-dec144789459",
   "metadata": {},
   "outputs": [
    {
     "data": {
      "text/plain": [
       "-2066.8500000000004"
      ]
     },
     "execution_count": 185,
     "metadata": {},
     "output_type": "execute_result"
    }
   ],
   "source": [
    "lower_bound=q1-1.5*iqr\n",
    "upper_bound=q3+1.5*iqr\n",
    "lower_bound"
   ]
  },
  {
   "cell_type": "code",
   "execution_count": 186,
   "id": "63a44303-71f1-482c-b243-462213019779",
   "metadata": {},
   "outputs": [
    {
     "data": {
      "text/plain": [
       "4073.3500000000004"
      ]
     },
     "execution_count": 186,
     "metadata": {},
     "output_type": "execute_result"
    }
   ],
   "source": [
    "upper_bound"
   ]
  },
  {
   "cell_type": "code",
   "execution_count": 187,
   "id": "acaf7d12-0f0f-4f9e-87fe-d40ee792538e",
   "metadata": {},
   "outputs": [
    {
     "name": "stdout",
     "output_type": "stream",
     "text": [
      "outlier rows:\n",
      "     Rank                   Title  Employees       Sector  Revenues  Profits\n",
      "0       1                 Walmart    2300000    Retailing    485873  13643.0\n",
      "1       2      Berkshire Hathaway     367700   Financials    223604  24074.0\n",
      "2       3                   Apple     116000   Technology    215639  45687.0\n",
      "3       4             Exxon Mobil      72700       Energy    205004   7840.0\n",
      "5       6      UnitedHealth Group     230000  Health Care    184840   7017.0\n",
      "..    ...                     ...        ...          ...       ...      ...\n",
      "284   285            Baker Hughes      33000       Energy      9841  -2738.0\n",
      "309   310                    eBay      12600   Technology      8979   7266.0\n",
      "342   343       Chesapeake Energy       3300       Energy      7872  -4401.0\n",
      "343   344      Anadarko Petroleum       4500       Energy      7869  -3071.0\n",
      "374   375  National Oilwell Varco      36384       Energy      7251  -2412.0\n",
      "\n",
      "[68 rows x 6 columns]\n"
     ]
    }
   ],
   "source": [
    "outliers=sub_df[(sub_df['Profits'] < lower_bound) |\n",
    "                (sub_df['Profits'] > upper_bound)]\n",
    "print(\"outlier rows:\")\n",
    "print(outliers)"
   ]
  },
  {
   "cell_type": "code",
   "execution_count": 188,
   "id": "cf8f4c47-7bd6-4e21-b7a2-62c8a0e0ea77",
   "metadata": {},
   "outputs": [],
   "source": []
  },
  {
   "cell_type": "code",
   "execution_count": 189,
   "id": "0e87c28d-954e-45a4-a077-023c7723ef42",
   "metadata": {},
   "outputs": [],
   "source": []
  },
  {
   "cell_type": "code",
   "execution_count": 194,
   "id": "41ef286c-d3ca-4fdd-817a-14666fef5f65",
   "metadata": {},
   "outputs": [
    {
     "data": {
      "text/html": [
       "<div>\n",
       "<style scoped>\n",
       "    .dataframe tbody tr th:only-of-type {\n",
       "        vertical-align: middle;\n",
       "    }\n",
       "\n",
       "    .dataframe tbody tr th {\n",
       "        vertical-align: top;\n",
       "    }\n",
       "\n",
       "    .dataframe thead th {\n",
       "        text-align: right;\n",
       "    }\n",
       "</style>\n",
       "<table border=\"1\" class=\"dataframe\">\n",
       "  <thead>\n",
       "    <tr style=\"text-align: right;\">\n",
       "      <th></th>\n",
       "      <th>Rank</th>\n",
       "      <th>Title</th>\n",
       "      <th>Employees</th>\n",
       "      <th>Sector</th>\n",
       "      <th>Revenues</th>\n",
       "      <th>Profits</th>\n",
       "    </tr>\n",
       "  </thead>\n",
       "  <tbody>\n",
       "    <tr>\n",
       "      <th>241</th>\n",
       "      <td>242</td>\n",
       "      <td>First Data</td>\n",
       "      <td>24000</td>\n",
       "      <td>Business Services</td>\n",
       "      <td>11584</td>\n",
       "      <td>420.0</td>\n",
       "    </tr>\n",
       "    <tr>\n",
       "      <th>448</th>\n",
       "      <td>449</td>\n",
       "      <td>American Tower</td>\n",
       "      <td>4507</td>\n",
       "      <td>Telecommunications</td>\n",
       "      <td>5786</td>\n",
       "      <td>956.4</td>\n",
       "    </tr>\n",
       "    <tr>\n",
       "      <th>75</th>\n",
       "      <td>76</td>\n",
       "      <td>Morgan Stanley</td>\n",
       "      <td>55311</td>\n",
       "      <td>Financials</td>\n",
       "      <td>37949</td>\n",
       "      <td>5979.0</td>\n",
       "    </tr>\n",
       "    <tr>\n",
       "      <th>212</th>\n",
       "      <td>213</td>\n",
       "      <td>Loews</td>\n",
       "      <td>15800</td>\n",
       "      <td>Financials</td>\n",
       "      <td>13105</td>\n",
       "      <td>654.0</td>\n",
       "    </tr>\n",
       "    <tr>\n",
       "      <th>481</th>\n",
       "      <td>482</td>\n",
       "      <td>Chemours</td>\n",
       "      <td>7000</td>\n",
       "      <td>Chemicals</td>\n",
       "      <td>5400</td>\n",
       "      <td>7.0</td>\n",
       "    </tr>\n",
       "  </tbody>\n",
       "</table>\n",
       "</div>"
      ],
      "text/plain": [
       "     Rank           Title  Employees              Sector  Revenues  Profits\n",
       "241   242      First Data      24000   Business Services     11584    420.0\n",
       "448   449  American Tower       4507  Telecommunications      5786    956.4\n",
       "75     76  Morgan Stanley      55311          Financials     37949   5979.0\n",
       "212   213           Loews      15800          Financials     13105    654.0\n",
       "481   482        Chemours       7000           Chemicals      5400      7.0"
      ]
     },
     "execution_count": 194,
     "metadata": {},
     "output_type": "execute_result"
    }
   ],
   "source": [
    "df.head()"
   ]
  },
  {
   "cell_type": "code",
   "execution_count": null,
   "id": "1258fd53-1dd5-4424-a857-d2b83c2059cd",
   "metadata": {},
   "outputs": [],
   "source": []
  },
  {
   "cell_type": "code",
   "execution_count": 190,
   "id": "1b1eab9b-3620-4637-8358-add00452ce63",
   "metadata": {},
   "outputs": [],
   "source": []
  }
 ],
 "metadata": {
  "kernelspec": {
   "display_name": "Python 3 (ipykernel)",
   "language": "python",
   "name": "python3"
  },
  "language_info": {
   "codemirror_mode": {
    "name": "ipython",
    "version": 3
   },
   "file_extension": ".py",
   "mimetype": "text/x-python",
   "name": "python",
   "nbconvert_exporter": "python",
   "pygments_lexer": "ipython3",
   "version": "3.12.4"
  }
 },
 "nbformat": 4,
 "nbformat_minor": 5
}
