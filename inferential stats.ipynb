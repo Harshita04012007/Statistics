{
 "cells": [
  {
   "cell_type": "code",
   "execution_count": 2,
   "id": "c1e1992d-ae08-4687-a2b1-840a36cdc446",
   "metadata": {},
   "outputs": [],
   "source": [
    "#shapiro wilk test\n",
    "#ho=data is normally distributed.\n",
    "#ha=daita is not noprmally doistributed.\n"
   ]
  },
  {
   "cell_type": "code",
   "execution_count": 6,
   "id": "105447e2-5fcc-4115-900d-b71e1fbb8189",
   "metadata": {},
   "outputs": [
    {
     "name": "stdout",
     "output_type": "stream",
     "text": [
      "test stats is: 0.9487136671690788\n",
      "p-value is: 0.6275603644934751\n",
      "data is normally distributed\n"
     ]
    }
   ],
   "source": [
    "from scipy.stats import shapiro\n",
    "data=[1.2,1.3,1.4,1.6,1.8,2.0,2.2,2.4,2.6,2.8,3.0]\n",
    "stat  ,p=shapiro(data)\n",
    "print(\"test stats is:\",stat)\n",
    "print(\"p-value is:\",p)\n",
    "if p>0.05:\n",
    "    print(\"data is normally distributed\")\n",
    "else:\n",
    "    print(\"data is not normally didtributed\")"
   ]
  },
  {
   "cell_type": "code",
   "execution_count": 7,
   "id": "fc622cc4-6fff-4ff6-ae73-d6730128cfc9",
   "metadata": {},
   "outputs": [
    {
     "name": "stdout",
     "output_type": "stream",
     "text": [
      "0.6275603644934751\n"
     ]
    }
   ],
   "source": [
    "pp=shapiro(data)[1]\n",
    "print(pp)"
   ]
  },
  {
   "cell_type": "code",
   "execution_count": 10,
   "id": "a6c21b8e-15cb-4b3e-86b5-4c00057ecb5d",
   "metadata": {},
   "outputs": [],
   "source": [
    "##**## the D'Agostino and pearson k^2 test"
   ]
  },
  {
   "cell_type": "code",
   "execution_count": 13,
   "id": "522700be-1636-4c58-b734-0c275be13498",
   "metadata": {},
   "outputs": [
    {
     "name": "stdout",
     "output_type": "stream",
     "text": [
      "test stats is: 1.6983154549564388\n",
      "p-value is: 0.4277750834528721\n",
      "data is normally distributed\n"
     ]
    },
    {
     "name": "stderr",
     "output_type": "stream",
     "text": [
      "C:\\Users\\Harshita\\anaconda3\\Lib\\site-packages\\scipy\\stats\\_axis_nan_policy.py:531: UserWarning: kurtosistest only valid for n>=20 ... continuing anyway, n=11\n",
      "  res = hypotest_fun_out(*samples, **kwds)\n"
     ]
    }
   ],
   "source": [
    "from scipy.stats import normaltest\n",
    "data1=[1.2,1.3,1.4,1.6,1.8,2.0,2.2,2.4,2.6,2.8,3.0]\n",
    "stat1  ,p1=normaltest(data1)\n",
    "print(\"test stats is:\",stat1)\n",
    "print(\"p-value is:\",p1)\n",
    "if p1>0.05:\n",
    "    print(\"data is normally distributed\")\n",
    "else:\n",
    "    print(\"data is not normally distributed\")\n"
   ]
  },
  {
   "cell_type": "code",
   "execution_count": null,
   "id": "d50450a1-3427-4216-8058-1a3068e6203b",
   "metadata": {},
   "outputs": [],
   "source": []
  }
 ],
 "metadata": {
  "kernelspec": {
   "display_name": "Python 3 (ipykernel)",
   "language": "python",
   "name": "python3"
  },
  "language_info": {
   "codemirror_mode": {
    "name": "ipython",
    "version": 3
   },
   "file_extension": ".py",
   "mimetype": "text/x-python",
   "name": "python",
   "nbconvert_exporter": "python",
   "pygments_lexer": "ipython3",
   "version": "3.12.4"
  }
 },
 "nbformat": 4,
 "nbformat_minor": 5
}
