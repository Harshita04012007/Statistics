{
 "cells": [
  {
   "cell_type": "code",
   "execution_count": 14,
   "id": "57a7d553-2b90-4aba-b5e8-3408bfeec15b",
   "metadata": {},
   "outputs": [
    {
     "name": "stdout",
     "output_type": "stream",
     "text": [
      "pearsonr correlation test:\n",
      "correlation coefficient: 1.0\n",
      "p-value is: 0.0\n",
      "data is not normally didtributed\n"
     ]
    }
   ],
   "source": [
    "import numpy as np\n",
    "from scipy.stats import pearsonr\n",
    "#example data\n",
    "x=[1,2,3,4,5]\n",
    "y=[2,4,6,8,10]\n",
    "#pearson correlation\n",
    "r, p = pearsonr(x, y)\n",
    "print(\"pearsonr correlation test:\")\n",
    "print(\"correlation coefficient:\",r)\n",
    "print(\"p-value is:\",p)\n",
    "if p>0.05:\n",
    "    print(\"data is normally distributed\")\n",
    "else:\n",
    "    print(\"data is not normally didtributed\")\n",
    "\n",
    "   "
   ]
  },
  {
   "cell_type": "code",
   "execution_count": 18,
   "id": "ec4342a6-e022-4f4e-8ef1-8d6ee001823f",
   "metadata": {},
   "outputs": [
    {
     "name": "stdout",
     "output_type": "stream",
     "text": [
      "spearman correlation test:\n",
      "correlation coefficient (p): 0.9999999999999999\n",
      "p-value: 1.4042654220543672e-24\n",
      "data is not normally distributed\n"
     ]
    }
   ],
   "source": [
    "from scipy.stats import spearmanr\n",
    "#example data\n",
    "x=[1,2,3,4,5]\n",
    "y=[5,6,7,8,9]\n",
    "#spearman correlation\n",
    "rho, p=spearmanr(x, y)\n",
    "print(\"spearman correlation test:\")\n",
    "print(\"correlation coefficient (p):\",rho)\n",
    "print(f\"p-value:\",p)\n",
    "if p>0.05:\n",
    "    print(\"data is normally distributed\")\n",
    "else:\n",
    "    print(\"data is not normally distributed\")\n"
   ]
  },
  {
   "cell_type": "code",
   "execution_count": null,
   "id": "37d55ed0-b3a5-43c1-9f0e-c5ad976fd67e",
   "metadata": {},
   "outputs": [],
   "source": [
    "# r>0 so  like relation thats  why they  do not establish relaation with ho\n",
    "note there value measures how strong the relatrionship is while the p-vakue indicates confident you can be that the observed relationship is not due to random chnce."
   ]
  }
 ],
 "metadata": {
  "kernelspec": {
   "display_name": "Python 3 (ipykernel)",
   "language": "python",
   "name": "python3"
  },
  "language_info": {
   "codemirror_mode": {
    "name": "ipython",
    "version": 3
   },
   "file_extension": ".py",
   "mimetype": "text/x-python",
   "name": "python",
   "nbconvert_exporter": "python",
   "pygments_lexer": "ipython3",
   "version": "3.12.4"
  }
 },
 "nbformat": 4,
 "nbformat_minor": 5
}
